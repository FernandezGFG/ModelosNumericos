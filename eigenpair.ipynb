{
 "cells": [
  {
   "cell_type": "markdown",
   "metadata": {},
   "source": [
    "# Problema de Autovalores y Autovectores\n",
    "Uno de los primeros problemas que surgen en el análisis es el cálculo de autovalores y autovectores. Por lo tanto, a continuación se implementan distintos métodos numéricos para su cómputo. El problema general se plante como:\n",
    "\n",
    "$( \\mathbb{A} - \\lambda \\cdot \\mathbb{I} ) \\cdot \\bar{\\phi} = 0$"
   ]
  },
  {
   "cell_type": "markdown",
   "metadata": {},
   "source": [
    "## Método de potencias\n",
    "### Cálculo de autovalor y autovector mayor\n",
    "De Chapra \"Métodos Numéricos para Ingenieros\", página 810. Hay que tener en cuenta que para algunos casos especiales el método converge al segundo autovalor mayor."
   ]
  },
  {
   "cell_type": "code",
   "execution_count": 1,
   "metadata": {},
   "outputs": [],
   "source": [
    "def power_iteration(A):\n",
    "    # DOCUMENTAR FUNCIÓN\n",
    "    # Establecer como parámetro opcional la cantidad máxima de iteraciones y el error admisible\n",
    "    \n",
    "    # Lanzar error si la matriz A recibida no es cuadrada\n",
    "\n",
    "    N = A.shape[0]\n",
    "    lmbd = N*[1]\n",
    "    w = 1\n",
    "\n",
    "    i = 0\n",
    "    while (1):\n",
    "        newLmbd = A.dot(lmbd)\n",
    "        newWmax = max(newLmbd)\n",
    "        newLmbd = (1/newWmax) * newLmbd\n",
    "        err = abs((newWmax - w)/newWmax)\n",
    "        # print(err)\n",
    "        if (err < 0.001 or i > 1000):\n",
    "            lmbd = newLmbd\n",
    "            w = newWmax\n",
    "            # print(\"Error: \" + str(err) + \" - Iteración: \" + str(i)) # Informe como parámetro opcional?\n",
    "            break\n",
    "        lmbd = newLmbd\n",
    "        w = newWmax\n",
    "        i += 1\n",
    "        \n",
    "    return w, lmbd"
   ]
  },
  {
   "cell_type": "markdown",
   "metadata": {},
   "source": [
    "### Cálculo de autovalor y autovector menor\n",
    "De Chapra \"Métodos Numéricos para Ingenieros\", página 812."
   ]
  },
  {
   "cell_type": "code",
   "execution_count": 2,
   "metadata": {},
   "outputs": [],
   "source": [
    "def inverse_iteration(A):\n",
    "    # DOCUMENTAR FUNCIÓN\n",
    "    # Establecer como parámetro opcional la cantidad máxima de iteraciones y el error admisible\n",
    "    \n",
    "    # Lanzar error si la matriz A recibida no es cuadrada\n",
    "    \n",
    "    N = A.shape[0]\n",
    "    \n",
    "    B = LA.inv(A) # Error si la matriz A no es invertible?\n",
    "    lmbd = N*[1]\n",
    "    w = 1\n",
    "\n",
    "    i = 0;\n",
    "    while (1):\n",
    "        newLmbd = B.dot(lmbd)\n",
    "        newWmax = max(newLmbd)\n",
    "        newLmbd = (1/newWmax) * newLmbd\n",
    "        err = abs((newWmax - w)/newWmax)\n",
    "        # print(err)\n",
    "        if (err < 0.001 or i > 1000):\n",
    "            lmbd = newLmbd\n",
    "            w = newWmax\n",
    "            # print(\"Error: \" + str(err) + \" - Iteración: \" + str(i)) # Informe como parámetro opcional?\n",
    "            break;\n",
    "        lmbd = newLmbd\n",
    "        w = newWmax\n",
    "        i += 1\n",
    "    \n",
    "    w = max(A.dot(lmbd))\n",
    "    lmbd = (1/w) * A.dot(lmbd)\n",
    "    # Error si w = 0?\n",
    "    #return 1/w, 1/lmbd\n",
    "    return w, lmbd"
   ]
  },
  {
   "cell_type": "markdown",
   "metadata": {},
   "source": [
    "### Determinación de autovalores intermedios\n",
    "Después de encontrar el mayor de los valores propios, es posible determinar los siguientes más grandes remplazando la\n",
    "matriz original por una que incluya sólo los valores propios restantes. El proceso de eliminar el valor propio mayor conocido se llama **deflación**. Una de estas técnicas es el *método de Hotelling* que está diseñada para matrices simétricas, pero dado que la matriz A del problema no es simétrica queda descartado."
   ]
  },
  {
   "cell_type": "markdown",
   "metadata": {},
   "source": [
    "## Otros Métodos para la determinación de autovalores\n",
    "\n",
    "Los siguientes métodos consisten en llevar la matriz **simétrica** A a una forma más sencilla:\n",
    "\n",
    "- Método de Jacobi\n",
    "- Método de Given\n",
    "- Método de Householder\n",
    "\n",
    "Nuevamente por ser para matrices simétricas se descartan.\n",
    "\n",
    "Para el caso deseado, donde se requiere el cálculo de todos los autovalores de una matriz genérica, se dispone de el *método LR de Rutishauser* y el *método QR de Francis*.\n",
    "\n",
    "De Chapra \"Métodos Numéricos para Ingenieros\", página 814, los métodos de Given y de Householder también se aplican a sistemas no simétricos. El resultado no será tridiagonal, sino más bien un tipo especial llamado *forma de Hessenberg*. Un procedimiento es aprovechar la velocidad del método de Householder para transformar la matriz a esta forma y, después, usar el algoritmo estable QR para hallar los valores propios. "
   ]
  }
 ],
 "metadata": {
  "kernelspec": {
   "display_name": "Python 3",
   "language": "python",
   "name": "python3"
  },
  "language_info": {
   "codemirror_mode": {
    "name": "ipython",
    "version": 3
   },
   "file_extension": ".py",
   "mimetype": "text/x-python",
   "name": "python",
   "nbconvert_exporter": "python",
   "pygments_lexer": "ipython3",
   "version": "3.7.4"
  }
 },
 "nbformat": 4,
 "nbformat_minor": 2
}
