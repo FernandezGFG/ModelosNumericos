{
 "cells": [
  {
   "cell_type": "markdown",
   "metadata": {},
   "source": [
    "# Proyecto de Investigación: Modelos Numéricos\n",
    "---"
   ]
  },
  {
   "cell_type": "code",
   "execution_count": 1,
   "metadata": {},
   "outputs": [],
   "source": [
    "import ipywidgets as widgets\n",
    "from matplotlib import pyplot as plt\n",
    "import numpy as np\n",
    "from numpy import linalg as LA\n",
    "from math import sqrt, pi\n",
    "\n",
    "from project import eigen"
   ]
  },
  {
   "cell_type": "markdown",
   "metadata": {},
   "source": [
    "## Modelo Matemático en Ecuaciones Diferenciales\n",
    "\n",
    "$ m(x) \\frac{\\partial^{2}u}{\\partial t^{2}} + EJ \\frac{\\partial^{4}u(x, t)}{\\partial x^{4}} = p(x)g(t) \\quad\\text{;}\\quad \\Omega = \\{x \\in \\mathbb{R}: 0 \\leq x \\leq L \\}$\n",
    "\n",
    "Condiciones de borde:\n",
    "\n",
    "$\\forall t \\quad\\text{en}\\quad x = 0\n",
    "\\begin{cases}\n",
    "u(0, t) = 0 \\\\\n",
    "\\frac{\\partial u}{\\partial x}|_{(0,t)} = 0\n",
    "\\end{cases}\n",
    "$\n",
    "\n",
    "$\\forall t \\quad\\text{en}\\quad x = L\n",
    "\\begin{cases}\n",
    "EJ \\frac{\\partial^{2}u(x, t)}{\\partial x^{2}} = M_{L} g_{c}(t) \\\\\n",
    "EJ \\frac{\\partial^{3}u(x, t)}{\\partial x^{3}} = 0\n",
    "\\end{cases}\n",
    "$\n",
    "\n",
    "Condiciones iniciales nulas."
   ]
  },
  {
   "cell_type": "markdown",
   "metadata": {},
   "source": [
    "## Datos del sistema"
   ]
  },
  {
   "cell_type": "code",
   "execution_count": 2,
   "metadata": {},
   "outputs": [],
   "source": [
    "L = 420\n",
    "EJ = 9.45e11\n",
    "m = 64.8\n",
    "p = 100\n",
    "ML = 50000"
   ]
  },
  {
   "cell_type": "markdown",
   "metadata": {},
   "source": [
    "## Modelo Matemático Discreto de N Grados de Libertad"
   ]
  },
  {
   "cell_type": "markdown",
   "metadata": {},
   "source": [
    "Discretización del dominio"
   ]
  },
  {
   "cell_type": "code",
   "execution_count": 3,
   "metadata": {},
   "outputs": [
    {
     "data": {
      "application/vnd.jupyter.widget-view+json": {
       "model_id": "19a860f830a74d7696426c4f045f2c1d",
       "version_major": 2,
       "version_minor": 0
      },
      "text/plain": [
       "FloatText(value=0.0)"
      ]
     },
     "metadata": {},
     "output_type": "display_data"
    }
   ],
   "source": [
    "widgetN = widgets.FloatText()\n",
    "display(widgetN)\n",
    "N = 20\n",
    "h = L/N"
   ]
  },
  {
   "cell_type": "markdown",
   "metadata": {},
   "source": [
    "Forma discreta de la ecuación diferencial, de la forma:\n",
    "\n",
    "$\\mathbb{M} \\cdot \\bar{\\ddot{u(t)}} + \\mathbb{K} \\cdot \\bar{u(t)} = g(t) \\cdot \\bar{f_{p}} + g_{c}(t) \\cdot \\bar{f_{M}}$\n",
    "\n",
    "Donde:"
   ]
  },
  {
   "cell_type": "code",
   "execution_count": 4,
   "metadata": {},
   "outputs": [],
   "source": [
    "M = np.zeros((N, N))\n",
    "\n",
    "for i in range(0, N):\n",
    "    M[i, i] = m\n",
    "    \n",
    "K = np.zeros((N, N))\n",
    "K[0, 0:3] = [7, -4, 1]\n",
    "K[1, 0:4] = [-4, 6, -4, 1]\n",
    "\n",
    "# Completar para N puntos de discretización\n",
    "if (N > 4):\n",
    "    for i in range(2, N-2):\n",
    "        K[i, i-2:i+3] = [1, -4, 6, -4, 1]\n",
    "\n",
    "K[N-2, N-4:N] = [1, -4, 5, -2]\n",
    "K[N-1, N-3:N] = [2, -4, 2]\n",
    "\n",
    "K = (EJ/h**4) * K\n",
    "\n",
    "fp = np.full((N,), p)\n",
    "\n",
    "fM = np.zeros((N,))\n",
    "fM[N-2] = -1\n",
    "fM[N-1] = 2\n",
    "fM = (ML/(h*h)) * fM[:]"
   ]
  },
  {
   "cell_type": "markdown",
   "metadata": {},
   "source": [
    "## Modelo Matemático de 1 Grado de Libertad\n",
    "\n",
    "Se realiza un cambio de base del espacio generado por los modos naturales de vibración del modelo matemátiico discreto de N grados de libertad.\n",
    "\n",
    "Es un problema de autovalores y autovectores, de la forma:\n",
    "\n",
    "$(\\mathbb{K} - \\omega^{2}\\mathbb{M}) \\cdot \\bar{\\phi} = \\bar{0}$\n",
    "\n",
    "Se opera para llegar a la forma:\n",
    "\n",
    "$(\\mathbb{A} - \\lambda \\cdot \\mathbb{I}) \\cdot \\bar{\\phi} = \\bar{0}$\n",
    "\n",
    "Y se procede mediante el método de iteración inversa para calcular el primer autovalor y autovector:"
   ]
  },
  {
   "cell_type": "code",
   "execution_count": 5,
   "metadata": {},
   "outputs": [],
   "source": [
    "A = LA.inv(M).dot(K)\n",
    "\n",
    "alpha, phi = eigen.inverse_iteration(A)\n",
    "# Se transforma el array 1D en 2D para poder transponerle y tratarlo\n",
    "# como un vector columna. Debe existir una forma mejor CORREGIR\n",
    "phi = np.array(phi)[np.newaxis].transpose()"
   ]
  },
  {
   "cell_type": "markdown",
   "metadata": {},
   "source": [
    "Obtención del primer autovector por izquierda de la matriz $(\\mathbb{K} - \\omega^{2}\\mathbb{M})$ se puede obtener como el primer autovector por derecha de la matriz $(\\mathbb{K}^{T} - \\omega^{2} \\cdot \\mathbb{M}^{T})$:"
   ]
  },
  {
   "cell_type": "code",
   "execution_count": 6,
   "metadata": {},
   "outputs": [],
   "source": [
    "A = LA.inv(M.transpose()).dot(K.transpose())\n",
    "alpha_n, phi_n = eigen.inverse_iteration(A) # Obtención del menor autovalor mediante método de potencia inversa\n",
    "# Se transforma el array 1D en 2D para poder transponerle y tratarlo\n",
    "# como un vector columna. Debe existir una forma mejor CORREGIR\n",
    "phi_n = np.array(phi_n)[np.newaxis].transpose()"
   ]
  },
  {
   "cell_type": "markdown",
   "metadata": {},
   "source": [
    "Falta explicar la descomposición modal (?)\n",
    "\n",
    "Así es posible obtener la siguiente ecuación dinámica de un grado de libertad:\n",
    "\n",
    "$\\ddot{q(t)} + \\omega_{n}^{2} \\cdot q(t) = g(t) \\cdot b_{p} + g_{c}(t) \\cdot b_{M}$"
   ]
  },
  {
   "cell_type": "code",
   "execution_count": 7,
   "metadata": {},
   "outputs": [
    {
     "name": "stdout",
     "output_type": "stream",
     "text": [
      "mn = 348.94223203336526 - kn = 2013.170408216206\n"
     ]
    }
   ],
   "source": [
    "mn = phi_n.transpose().dot(M.dot(phi))[0, 0]\n",
    "kn = phi_n.transpose().dot(K.dot(phi))[0, 0]\n",
    "print(\"mn = \" + str(mn) + \" - kn = \" + str(kn))"
   ]
  },
  {
   "cell_type": "code",
   "execution_count": 8,
   "metadata": {
    "scrolled": true
   },
   "outputs": [
    {
     "name": "stdout",
     "output_type": "stream",
     "text": [
      "2.401936260308794 2.401947450047864\n",
      "T = 2.615871261902245\n"
     ]
    }
   ],
   "source": [
    "wn = sqrt(kn/mn)\n",
    "print(sqrt(alpha), wn)\n",
    "\n",
    "T = 2*pi/wn\n",
    "print(\"T = \" + str(T))"
   ]
  },
  {
   "cell_type": "code",
   "execution_count": 9,
   "metadata": {},
   "outputs": [
    {
     "name": "stdout",
     "output_type": "stream",
     "text": [
      "bp = 2.4128045976265393 - bM = 0.023994587017530745\n"
     ]
    }
   ],
   "source": [
    "bp = phi_n.transpose().dot(fp)/mn\n",
    "bp = bp[0]\n",
    "bM = phi_n.transpose().dot(fM)/mn\n",
    "bM = bM[0]\n",
    "print(\"bp = \" + str(bp) + \" - bM = \" + str(bM))"
   ]
  },
  {
   "cell_type": "markdown",
   "metadata": {},
   "source": [
    "Es importante destacar que el método iterativo de potencias inverso solo se puede implementar en este caso de 1 grado de libertad, ya que solo es posible obtener el eigenpar menor (que es el fundamental y el que se necesita). Para el caso general es necesario la aplicación de otro método numérico."
   ]
  },
  {
   "cell_type": "markdown",
   "metadata": {},
   "source": [
    "## Resolución de la ecuación diferencial por reducción de orden\n",
    "Siendo la ecuación diferencial de la forma:\n",
    "\n",
    "$\\ddot{q(t)} + \\omega_{n}^{2} \\cdot q(t) = g(t) \\cdot b_{p} + g_{c}(t) \\cdot b_{M}$\n",
    "\n",
    "Se puede resolver mediante reducción de orden definiendo $y_{1}(t) = q(t)$ y $y_{2}(t) = \\frac{dy_{1}}{dt}$, entonces:\n",
    "\n",
    "$\n",
    "\\begin{cases}\n",
    "\\frac{dy_{1}}{dt} = y_{2}(t) \\\\\n",
    "\\frac{dy_{2}}{dt} = - \\omega_{n}^{2} \\cdot y_{1}(t) + g(t) \\cdot b_{p} + g_{c}(t) \\cdot b_{M}\n",
    "\\end{cases}\n",
    "$\n"
   ]
  },
  {
   "cell_type": "markdown",
   "metadata": {},
   "source": [
    "---\n",
    "# Sistemas de Ecuaciones Diferenciales Ordinarias de Primer Orden\n",
    "\n",
    "## Método de Euler\n",
    "\n",
    "Es uno de los métodos más antiguos y mejor conocidos de **integración numérica** de ecuaciones diferenciales. Fue ideado por Euler hace más de 200 años. Es un método fácil de entender y de usar, pero no es tan preciso como otros métodos. En general, se trata de un **Método de Runge-Kutta de Primer Orden**.\n",
    "\n",
    "Siendo la ecuación diferencial de primer orden de la forma:\n",
    "\n",
    "$\\frac{dy}{dt} = f(x, y)$\n",
    "\n",
    "La expresión para su cálculo es:\n",
    "\n",
    "$y_{i+1} = y_{i} + h \\cdot f(x_{i}, y_{i})$"
   ]
  },
  {
   "cell_type": "code",
   "execution_count": 10,
   "metadata": {},
   "outputs": [],
   "source": [
    "A = np.array([[0, 1], [-wn**2, 0]])\n",
    "\n",
    "# Condiciones iniciales del sistema\n",
    "y0 = np.zeros((2,))\n",
    "t0 = 0\n",
    "\n",
    "# Incremento de tiempo\n",
    "Dt = 1e-2\n",
    "# Cantidad de puntos\n",
    "tf = 6*T\n",
    "NDt = np.ceil(tf/Dt).astype(int) # Se redondea al entero superior y se castea a un entero\n",
    "\n",
    "# Dimensionamiento\n",
    "t = np.zeros((NDt,))\n",
    "y = np.zeros((2, NDt))\n",
    "\n",
    "ya = np.zeros((2,))\n",
    "k1 = np.zeros((2,))\n",
    "\n",
    "# Cargas externas\n",
    "# g(t) impulso unitario en t=0\n",
    "g = np.zeros((NDt,))\n",
    "g[0] = 1\n",
    "\n",
    "B = np.zeros((2, NDt))\n",
    "B[1, :] = g\n",
    "\n",
    "# Inicialización del sistema\n",
    "t[0] = t0\n",
    "y[:, 0] = y0\n",
    "\n",
    "for i in range(0, NDt-1):\n",
    "    ya = y[:, i]\n",
    "    ta = t[i]\n",
    "    \n",
    "    k1 = Dt * A.dot(ya) + B[:, i]\n",
    "    \n",
    "    y[:, i+1] = ya + k1\n",
    "    t[i+1] = ta + Dt # Esto se puede simplificar con np.arange al principio"
   ]
  },
  {
   "cell_type": "code",
   "execution_count": 11,
   "metadata": {},
   "outputs": [
    {
     "data": {
      "text/plain": [
       "<matplotlib.legend.Legend at 0x7faddcffef10>"
      ]
     },
     "execution_count": 11,
     "metadata": {},
     "output_type": "execute_result"
    },
    {
     "data": {
      "image/png": "[encoded data removed]",
      "text/plain": [
       "<Figure size 432x288 with 1 Axes>"
      ]
     },
     "metadata": {
      "needs_background": "light"
     },
     "output_type": "display_data"
    }
   ],
   "source": [
    "plt.plot(t, y[1, :], label='u(L, t)')\n",
    "plt.plot(t, g, label='g(t)')\n",
    "plt.title('u(L, t)')\n",
    "plt.xlabel('t [s]')\n",
    "plt.grid()\n",
    "plt.legend()"
   ]
  },
  {
   "cell_type": "markdown",
   "metadata": {},
   "source": [
    "### Método de Euler modificado"
   ]
  },
  {
   "cell_type": "code",
   "execution_count": 12,
   "metadata": {},
   "outputs": [],
   "source": [
    "A = np.array([[0, 1], [-wn**2, 0]])\n",
    "\n",
    "# Condiciones iniciales del sistema\n",
    "y0 = np.zeros((2,))\n",
    "t0 = 0\n",
    "\n",
    "# Incremento de tiempo\n",
    "Dt = 1e-2\n",
    "# Cantidad de puntos\n",
    "tf = 6*T\n",
    "NDt = np.ceil(tf/Dt).astype(int) # Se redondea al entero superior y se castea a un entero\n",
    "\n",
    "# Dimensionamiento\n",
    "t = np.zeros((NDt,))\n",
    "y = np.zeros((2, NDt))\n",
    "yg = np.zeros((2,))\n",
    "\n",
    "ya = np.zeros((2,))\n",
    "k1 = np.zeros((2,))\n",
    "k2 = np.zeros((2,))\n",
    "\n",
    "# Cargas externas\n",
    "# g(t) impulso unitario en t=0\n",
    "g = np.zeros((NDt,))\n",
    "g[0] = 1\n",
    "\n",
    "B = np.zeros((2, NDt))\n",
    "B[1, :] = g\n",
    "\n",
    "# Inicialización del sistema\n",
    "t[0] = t0\n",
    "y[:, 0] = y0\n",
    "\n",
    "for i in range(0, NDt-1):\n",
    "    ya = y[:, i]\n",
    "    ta = t[i]\n",
    "    \n",
    "    k1 = Dt * A.dot(ya) + B[:, i]\n",
    "    \n",
    "    yg = ya + k1/2\n",
    "    tg = ta + Dt/2\n",
    "    \n",
    "    k2 = Dt * A.dot(yg) + B[:, i]\n",
    "    \n",
    "    y[:, i+1] = ya + k2\n",
    "    t[i+1] = ta + Dt # Esto se puede simplificar con np.arange al principio"
   ]
  },
  {
   "cell_type": "code",
   "execution_count": 13,
   "metadata": {},
   "outputs": [
    {
     "data": {
      "text/plain": [
       "<matplotlib.legend.Legend at 0x7faddbcebed0>"
      ]
     },
     "execution_count": 13,
     "metadata": {},
     "output_type": "execute_result"
    },
    {
     "data": {
      "image/png": "[encoded data removed]",
      "text/plain": [
       "<Figure size 432x288 with 1 Axes>"
      ]
     },
     "metadata": {
      "needs_background": "light"
     },
     "output_type": "display_data"
    }
   ],
   "source": [
    "plt.plot(t, y[1, :], label='u(L, t)')\n",
    "plt.plot(t, g, label='g(t)')\n",
    "plt.title('u(L, t)')\n",
    "plt.xlabel('t [s]')\n",
    "plt.grid()\n",
    "plt.legend()"
   ]
  }
 ],
 "metadata": {
  "kernelspec": {
   "display_name": "Python 3",
   "language": "python",
   "name": "python3"
  },
  "language_info": {
   "codemirror_mode": {
    "name": "ipython",
    "version": 3
   },
   "file_extension": ".py",
   "mimetype": "text/x-python",
   "name": "python",
   "nbconvert_exporter": "python",
   "pygments_lexer": "ipython3",
   "version": "3.7.4"
  }
 },
 "nbformat": 4,
 "nbformat_minor": 2
}
