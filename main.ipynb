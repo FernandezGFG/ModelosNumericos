{
 "cells": [
  {
   "cell_type": "markdown",
   "metadata": {},
   "source": [
    "# Proyecto de Investigación: Modelos Numéricos\n",
    "---"
   ]
  },
  {
   "cell_type": "code",
   "execution_count": 82,
   "metadata": {},
   "outputs": [],
   "source": [
    "import ipywidgets as widgets\n",
    "import numpy as np\n",
    "from numpy import linalg as LA\n",
    "from math import sqrt"
   ]
  },
  {
   "cell_type": "markdown",
   "metadata": {},
   "source": [
    "## Modelo Matemático en Ecuaciones Diferenciales\n",
    "\n",
    "$ m(x) \\frac{\\partial^{2}u}{\\partial t^{2}} + EJ \\frac{\\partial^{4}u(x, t)}{\\partial x^{4}} = p(x)g(t) \\quad\\text{;}\\quad \\Omega = \\{x \\in \\mathbb{R}: 0 \\leq x \\leq L \\}$\n",
    "\n",
    "Condiciones de borde:\n",
    "\n",
    "$\\forall t \\quad\\text{en}\\quad x = 0\n",
    "\\begin{cases}\n",
    "u(0, t) = 0 \\\\\n",
    "\\frac{\\partial u}{\\partial x}|_{(0,t)} = 0\n",
    "\\end{cases}\n",
    "$\n",
    "\n",
    "$\\forall t \\quad\\text{en}\\quad x = L\n",
    "\\begin{cases}\n",
    "EJ \\frac{\\partial^{2}u(x, t)}{\\partial x^{2}} = M_{L} g_{c}(t) \\\\\n",
    "EJ \\frac{\\partial^{3}u(x, t)}{\\partial x^{3}} = 0\n",
    "\\end{cases}\n",
    "$\n",
    "\n",
    "Condiciones iniciales nulas."
   ]
  },
  {
   "cell_type": "markdown",
   "metadata": {},
   "source": [
    "## Datos del sistema"
   ]
  },
  {
   "cell_type": "code",
   "execution_count": 29,
   "metadata": {},
   "outputs": [],
   "source": [
    "L = 420\n",
    "EJ = 9.45e11\n",
    "m = 64.8\n",
    "p = 100\n",
    "ML = 50000"
   ]
  },
  {
   "cell_type": "markdown",
   "metadata": {},
   "source": [
    "## Modelo Matemático Discreto de N Grados de Libertad"
   ]
  },
  {
   "cell_type": "markdown",
   "metadata": {},
   "source": [
    "Discretización del dominio"
   ]
  },
  {
   "cell_type": "code",
   "execution_count": 191,
   "metadata": {},
   "outputs": [
    {
     "data": {
      "application/vnd.jupyter.widget-view+json": {
       "model_id": "dcc6e0af4f454a579d065ba88325f4e4",
       "version_major": 2,
       "version_minor": 0
      },
      "text/plain": [
       "FloatText(value=0.0)"
      ]
     },
     "metadata": {},
     "output_type": "display_data"
    }
   ],
   "source": [
    "widgetN = widgets.FloatText()\n",
    "display(widgetN)\n",
    "N = 20\n",
    "h = L/N"
   ]
  },
  {
   "cell_type": "markdown",
   "metadata": {},
   "source": [
    "Forma discreta de la ecuación diferencial, de la forma:\n",
    "\n",
    "$\\mathbb{M} \\cdot \\bar{\\ddot{u(t)}} + \\mathbb{K} \\cdot \\bar{u(t)} = g(t) \\cdot \\bar{f_{p}} + g_{c}(t) \\cdot \\bar{f_{M}}$\n",
    "\n",
    "Donde:"
   ]
  },
  {
   "cell_type": "code",
   "execution_count": 192,
   "metadata": {},
   "outputs": [],
   "source": [
    "M = np.zeros((N, N))\n",
    "\n",
    "for i in range(0, N):\n",
    "    M[i, i] = m\n",
    "    \n",
    "K = np.zeros((N, N))\n",
    "K[0, 0:3] = [7, -4, 1]\n",
    "K[1, 0:4] = [-4, 6, -4, 1]\n",
    "\n",
    "# Completar para N puntos de discretización\n",
    "if (N > 4):\n",
    "    for i in range(2, N-2):\n",
    "        K[i, i-2:i+3] = [1, -4, 6, -4, 1]\n",
    "\n",
    "K[N-2, N-4:N] = [1, -4, 5, -2]\n",
    "K[N-1, N-3:N] = [2, -4, 2]\n",
    "\n",
    "K = (EJ/h**4) * K\n",
    "\n",
    "fp = np.full((N,), p)\n",
    "\n",
    "fM = np.zeros((N,))\n",
    "fM[N-2] = -1\n",
    "fM[N-1] = 2\n",
    "fM = (ML/(h*h)) * fM[:]"
   ]
  },
  {
   "cell_type": "markdown",
   "metadata": {},
   "source": [
    "## Modelo Matemático de 1 Grado de Libertad\n",
    "\n",
    "Se realiza un cambio de base del espacio generado por los modos naturales de vibración del modelo matemátiico discreto de N grados de libertad.\n",
    "\n",
    "Es un problema de autovalores y autovectores, de la forma:\n",
    "\n",
    "$(\\mathbb{K} - \\omega^{2}\\mathbb{M}) \\cdot \\bar{\\phi} = \\bar{0}$\n",
    "\n",
    "Por lo tanto, es necesario calcular las raíces del polinomio característico:\n",
    "\n",
    "$det(\\mathbb{K} - \\omega^{2}\\mathbb{M}) = 0$"
   ]
  },
  {
   "cell_type": "code",
   "execution_count": 228,
   "metadata": {},
   "outputs": [],
   "source": [
    "A = LA.inv(M).dot(K)"
   ]
  },
  {
   "cell_type": "code",
   "execution_count": 229,
   "metadata": {},
   "outputs": [
    {
     "name": "stdout",
     "output_type": "stream",
     "text": [
      "5.769351536030419 [-0.00186763 -0.00721364 -0.01578129 -0.02731442 -0.04155807 -0.05825936\n",
      " -0.07716864 -0.09804072 -0.12063637 -0.14472389 -0.17008085 -0.19649597\n",
      " -0.22377105 -0.25172302 -0.28018601 -0.30901353 -0.33808063 -0.36728616\n",
      " -0.39655497 -0.42584016]\n"
     ]
    }
   ],
   "source": [
    "alpha, v = LA.eig(A)\n",
    "phi = np.array(v[:, N-1])[np.newaxis].transpose()\n",
    "#print(alpha[0])\n",
    "print(alpha[N-1], v[:, N-1])"
   ]
  },
  {
   "cell_type": "code",
   "execution_count": 230,
   "metadata": {},
   "outputs": [
    {
     "name": "stdout",
     "output_type": "stream",
     "text": [
      "5.769297798586194 [0.00438605 0.01694086 0.0370614  0.06414598 0.09759575 0.1368168\n",
      " 0.18122274 0.23023774 0.2832999  0.33986509 0.39941097 0.46144137\n",
      " 0.52549089 0.59112963 0.65796813 0.72566244 0.79391922 0.86250097\n",
      " 0.93123126 1.        ]\n"
     ]
    }
   ],
   "source": [
    "alpha, v = inverse_iteration(A)\n",
    "print(alpha, v)"
   ]
  },
  {
   "cell_type": "markdown",
   "metadata": {},
   "source": [
    "Obtención del primer autovector por derecha de la matriz $(\\mathbb{K}^{T} - \\omega^{2} \\cdot \\mathbb{M}^{T})$:"
   ]
  },
  {
   "cell_type": "code",
   "execution_count": 231,
   "metadata": {},
   "outputs": [
    {
     "name": "stdout",
     "output_type": "stream",
     "text": [
      "2.40193983698252\n"
     ]
    }
   ],
   "source": [
    "A = LA.inv(M.transpose()).dot(K.transpose())\n",
    "w1, v1 = inverse_iteration(A) # Obtención del menor autovalor mediante método de potencia inversa\n",
    "w1 = sqrt(w1)\n",
    "print(w1)\n",
    "# IMPLEMENTAR MÉTODO PARA ENCONTRAR eL AUTOVECTOR"
   ]
  },
  {
   "cell_type": "markdown",
   "metadata": {},
   "source": [
    "Verificación diagonalizando $\\mathbb{M}$:"
   ]
  },
  {
   "cell_type": "code",
   "execution_count": 232,
   "metadata": {},
   "outputs": [
    {
     "name": "stdout",
     "output_type": "stream",
     "text": [
      "(20, 1) (20, 1)\n",
      "[[348.94223203]] [[2013.17040822]]\n"
     ]
    }
   ],
   "source": [
    "v1 = np.array(v1)[np.newaxis].transpose()\n",
    "v = np.array(v)[np.newaxis].transpose()\n",
    "mn = v1.transpose().dot(M.dot(v))\n",
    "kn = v1.transpose().dot(K.dot(v))\n",
    "print(mn, kn)\n",
    "#kn = phiN.transpose().dot(K.dot(phi))\n",
    "#wn = sqrt(kn/mn)\n",
    "#print(mn, kn, wn)"
   ]
  },
  {
   "cell_type": "markdown",
   "metadata": {},
   "source": [
    "---\n",
    "# Problema de Autovalores y Autovectores\n",
    "Uno de los primeros problemas que surgen en el análisis es el cálculo de autovalores y autovectores. Por lo tanto, a continuación se implementan distintos métodos numéricos para su cómputo. El problema general se plante como:\n",
    "\n",
    "$( \\mathbb{A} - \\lambda \\cdot \\mathbb{I} ) \\cdot \\bar{\\phi} = 0$"
   ]
  },
  {
   "cell_type": "markdown",
   "metadata": {},
   "source": [
    "## Método de potencias\n",
    "### Cálculo de autovalor y autovector mayor\n",
    "De Chapra \"Métodos Numéricos para Ingenieros\", página 810. Hay que tener en cuenta que para algunos casos especiales el método converge al segundo autovalor mayor."
   ]
  },
  {
   "cell_type": "code",
   "execution_count": 76,
   "metadata": {},
   "outputs": [
    {
     "name": "stdout",
     "output_type": "stream",
     "text": [
      "0.997916275\n",
      "0.5\n",
      "0.20000000000000015\n",
      "0.10614525139664785\n",
      "0.061064094148537224\n",
      "0.03321625809351938\n",
      "0.016981466867421\n",
      "0.008352575708242937\n",
      "0.004025096981848794\n",
      "0.0019200571002630522\n",
      "0.0009114147481460174\n",
      "Error: 0.0009114147481460174 - Iteración: 10\n",
      "[ 1.         -1.20935664  0.89814786 -0.55931103]\n",
      "1527.3221659476048\n"
     ]
    }
   ],
   "source": [
    "A = LA.inv(M).dot(K)\n",
    "A.shape[0]\n",
    "\n",
    "w, lmbd = power_iteration(A)\n",
    "\n",
    "print(lmbd)\n",
    "print(w)"
   ]
  },
  {
   "cell_type": "code",
   "execution_count": 75,
   "metadata": {},
   "outputs": [],
   "source": [
    "def power_iteration(A):\n",
    "    # DOCUMENTAR FUNCIÓN\n",
    "    # Establecer como parámetro opcional la cantidad máxima de iteraciones y el error admisible\n",
    "    \n",
    "    # Lanzar error si la matriz A recibida no es cuadrada\n",
    "\n",
    "    N = A.shape[0]\n",
    "    lmbd = N*[1]\n",
    "    w = 1\n",
    "\n",
    "    i = 0;\n",
    "    while (1):\n",
    "        newLmbd = A.dot(lmbd)\n",
    "        newWmax = max(newLmbd)\n",
    "        newLmbd = (1/newWmax) * newLmbd\n",
    "        err = abs((newWmax - w)/newWmax)\n",
    "        print(err)\n",
    "        if (err < 0.001 or i > 1000):\n",
    "            lmbd = newLmbd\n",
    "            w = newWmax\n",
    "            print(\"Error: \" + str(err) + \" - Iteración: \" + str(i)) # Informe como parámetro opcional?\n",
    "            break;\n",
    "        lmbd = newLmbd\n",
    "        w = newWmax\n",
    "        i += 1\n",
    "        \n",
    "    return w, lmbd"
   ]
  },
  {
   "cell_type": "markdown",
   "metadata": {},
   "source": [
    "### Cálculo de autovalor menor\n",
    "De Chapra \"Métodos Numéricos para Ingenieros\", página 812."
   ]
  },
  {
   "cell_type": "code",
   "execution_count": 218,
   "metadata": {},
   "outputs": [
    {
     "name": "stdout",
     "output_type": "stream",
     "text": [
      "5.769297798586194 [0.00438605 0.01694086 0.0370614  0.06414598 0.09759575 0.1368168\n",
      " 0.18122274 0.23023774 0.2832999  0.33986509 0.39941097 0.46144137\n",
      " 0.52549089 0.59112963 0.65796813 0.72566244 0.79391922 0.86250097\n",
      " 0.93123126 1.        ]\n"
     ]
    }
   ],
   "source": [
    "A = LA.inv(M).dot(K)\n",
    "A.shape[0]\n",
    "\n",
    "w, lmbd = inverse_iteration(A)\n",
    "\n",
    "print(w, lmbd)"
   ]
  },
  {
   "cell_type": "code",
   "execution_count": 217,
   "metadata": {},
   "outputs": [],
   "source": [
    "def inverse_iteration(A):\n",
    "    # DOCUMENTAR FUNCIÓN\n",
    "    # Establecer como parámetro opcional la cantidad máxima de iteraciones y el error admisible\n",
    "    \n",
    "    # Lanzar error si la matriz A recibida no es cuadrada\n",
    "    \n",
    "    N = A.shape[0]\n",
    "    \n",
    "    B = LA.inv(A) # Error si la matriz A no es invertible?\n",
    "    lmbd = N*[1]\n",
    "    w = 1\n",
    "\n",
    "    i = 0;\n",
    "    while (1):\n",
    "        newLmbd = B.dot(lmbd)\n",
    "        newWmax = max(newLmbd)\n",
    "        newLmbd = (1/newWmax) * newLmbd\n",
    "        err = abs((newWmax - w)/newWmax)\n",
    "        # print(err)\n",
    "        if (err < 0.001 or i > 1000):\n",
    "            lmbd = newLmbd\n",
    "            w = newWmax\n",
    "            # print(\"Error: \" + str(err) + \" - Iteración: \" + str(i)) # Informe como parámetro opcional?\n",
    "            break;\n",
    "        lmbd = newLmbd\n",
    "        w = newWmax\n",
    "        i += 1\n",
    "    \n",
    "    w = max(A.dot(lmbd))\n",
    "    lmbd = (1/w) * A.dot(lmbd)\n",
    "    # Error si w = 0?\n",
    "    #return 1/w, 1/lmbd\n",
    "    return w, lmbd"
   ]
  },
  {
   "cell_type": "markdown",
   "metadata": {},
   "source": [
    "### Determinación de autovalores intermedios\n",
    "Después de encontrar el mayor de los valores propios, es posible determinar los siguientes más grandes remplazando la\n",
    "matriz original por una que incluya sólo los valores propios restantes. El proceso de eliminar el valor propio mayor conocido se llama **deflación**. Una de estas técnicas es el *método de Hotelling* que está diseñada para matrices simétricas, pero dado que la matriz A del problema no es simétrica queda descartado."
   ]
  },
  {
   "cell_type": "code",
   "execution_count": 71,
   "metadata": {},
   "outputs": [
    {
     "data": {
      "text/plain": [
       "False"
      ]
     },
     "execution_count": 71,
     "metadata": {},
     "output_type": "execute_result"
    }
   ],
   "source": [
    "np.array_equal(A, A.transpose())"
   ]
  },
  {
   "cell_type": "markdown",
   "metadata": {},
   "source": [
    "## Otros Métodos para la determinación de autovalores\n",
    "\n",
    "Los siguientes métodos consisten en llevar la matriz **simétrica** A a una forma más sencilla:\n",
    "\n",
    "- Método de Jacobi\n",
    "- Método de Given\n",
    "- Método de Householder\n",
    "\n",
    "Nuevamente por ser para matrices simétricas se descartan.\n",
    "\n",
    "Para el caso deseado, donde se requiere el cálculo de todos los autovalores de una matriz genérica, se dispone de el *método LR de Rutishauser* y el *método QR de Francis*.\n",
    "\n",
    "De Chapra \"Métodos Numéricos para Ingenieros\", página 814, los métodos de Given y de Householder también se aplican a sistemas no simétricos. El resultado no será tridiagonal, sino más bien un tipo especial llamado *forma de Hessenberg*. Un procedimiento es aprovechar la velocidad del método de Householder para transformar la matriz a esta forma y, después, usar el algoritmo estable QR para hallar los valores propios. "
   ]
  }
 ],
 "metadata": {
  "kernelspec": {
   "display_name": "Python 3",
   "language": "python",
   "name": "python3"
  },
  "language_info": {
   "codemirror_mode": {
    "name": "ipython",
    "version": 3
   },
   "file_extension": ".py",
   "mimetype": "text/x-python",
   "name": "python",
   "nbconvert_exporter": "python",
   "pygments_lexer": "ipython3",
   "version": "3.7.4"
  }
 },
 "nbformat": 4,
 "nbformat_minor": 2
}
